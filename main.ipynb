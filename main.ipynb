{
 "cells": [
  {
   "cell_type": "code",
   "execution_count": 10,
   "metadata": {},
   "outputs": [],
   "source": [
    "with open('styles.css', 'r') as file:\n",
    "    css = file.read()"
   ]
  },
  {
   "cell_type": "code",
   "execution_count": 11,
   "metadata": {},
   "outputs": [
    {
     "name": "stdout",
     "output_type": "stream",
     "text": [
      "* Running on local URL:  http://127.0.0.1:7864\n",
      "\n",
      "To create a public link, set `share=True` in `launch()`.\n"
     ]
    },
    {
     "data": {
      "text/html": [
       "<div><iframe src=\"http://127.0.0.1:7864/\" width=\"100%\" height=\"500\" allow=\"autoplay; camera; microphone; clipboard-read; clipboard-write;\" frameborder=\"0\" allowfullscreen></iframe></div>"
      ],
      "text/plain": [
       "<IPython.core.display.HTML object>"
      ]
     },
     "metadata": {},
     "output_type": "display_data"
    }
   ],
   "source": [
    "import numpy as np\n",
    "import time\n",
    "import gradio as gr\n",
    "\n",
    "def flip_text(x):\n",
    "    return x[::-1]\n",
    "\n",
    "def flip_image(x):\n",
    "    return np.fliplr(x)\n",
    "\n",
    "def slow_echo(message, history):\n",
    "    for i in range(len(message)):\n",
    "        time.sleep(0.05)\n",
    "        yield \"You typed: \" + message[: i + 1]\n",
    "\n",
    "with gr.Blocks(title='WorldWealth', css=css) as demo:\n",
    "    gr.Markdown(\"World wealth\")\n",
    "\n",
    "    with gr.Tab(\"WealthANALYTICS\"):\n",
    "        text_input = gr.Textbox(label=\"Enter text\")\n",
    "        text_output = gr.Textbox(label=\"Flipped text\")\n",
    "        text_button = gr.Button(\"Flip\")\n",
    "        text_button.click(flip_text, inputs=text_input, outputs=text_output)\n",
    "\n",
    "    with gr.Tab(\"WealthCHATBOT\"):\n",
    "        chat = gr.ChatInterface(\n",
    "            slow_echo,\n",
    "            type=\"messages\",\n",
    "            flagging_mode=\"manual\",\n",
    "            flagging_options=[\"Like\", \"Spam\", \"Inappropriate\", \"Other\"],\n",
    "            save_history=True,\n",
    "        )\n",
    "\n",
    "    with gr.Accordion(\"Open for More!\", open=False):\n",
    "        gr.Markdown(\"Look at me...\")\n",
    "        temp_slider = gr.Slider(\n",
    "            0, 1,\n",
    "            value=0.1,\n",
    "            step=0.1,\n",
    "            interactive=True,\n",
    "            label=\"Slide me\",\n",
    "        )\n",
    "\n",
    "if __name__ == \"__main__\":\n",
    "    demo.launch()\n"
   ]
  }
 ],
 "metadata": {
  "kernelspec": {
   "display_name": "Python 3.13.2 ('hack')",
   "language": "python",
   "name": "python3"
  },
  "language_info": {
   "codemirror_mode": {
    "name": "ipython",
    "version": 3
   },
   "file_extension": ".py",
   "mimetype": "text/x-python",
   "name": "python",
   "nbconvert_exporter": "python",
   "pygments_lexer": "ipython3",
   "version": "3.13.2"
  },
  "orig_nbformat": 4,
  "vscode": {
   "interpreter": {
    "hash": "32595281dab907644ba5a4b7d80b13caec342eb89c670a3183fd7fa3fe2385de"
   }
  }
 },
 "nbformat": 4,
 "nbformat_minor": 2
}
