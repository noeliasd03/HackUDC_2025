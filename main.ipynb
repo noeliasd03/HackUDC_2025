{
 "cells": [
  {
   "cell_type": "code",
   "execution_count": 142,
   "metadata": {},
   "outputs": [],
   "source": [
    "with open('styles/styles.css', 'r') as file:\n",
    "    css = file.read()"
   ]
  },
  {
   "cell_type": "code",
   "execution_count": 143,
   "metadata": {},
   "outputs": [],
   "source": [
    "import json\n",
    "import requests\n",
    "import time\n",
    "import os\n",
    "from gtts import gTTS\n",
    "import numpy as np\n",
    "\n",
    "def askQuestion(question, history):\n",
    "    # url='http://localhost:8008/answerQuestion/'\n",
    "\n",
    "    # headers={\n",
    "    #     'Authorization':'Basic YWRtaW46YWRtaW4='\n",
    "    #     }\n",
    "    # params= {\n",
    "    #     'question':question\n",
    "    #     }\n",
    "\n",
    "    # response=requests.get(url, params=params, headers=headers)\n",
    "    # answer = response.json().get('answer')\n",
    "    response={\"answer\":\"The tenth richest person in the world is **Steve Ballmer**.\\n \\n \\n \\n\\nDISCLAIMER: This response has been generated based on an LLM's interpretation of the data and may not be accurate.\",\"sql_query\":\"SELECT \\\"name\\\" FROM \\\"global_wealth\\\".\\\"p_richest500\\\" WHERE \\\"rank\\\" = '10.0'\",\"query_explanation\":\"The user is asking for the name of the 10th richest person in the world. I can use the table \\\"global_wealth\\\".\\\"p_richest500\\\" to answer this question. I will select the name from this table where the rank is 10.\",\"tokens\":{\"input_tokens\":0,\"output_tokens\":0,\"total_tokens\":0},\"related_questions\":[\"What is the total net worth of the top 10 richest people?\",\"Which industry has the most individuals in the top 500 richest people?\",\"What is the average YTD change in net worth for the top 50 richest people?\"],\"execution_result\":{\"Row 1\":[{\"columnName\":\"name\",\"value\":\"Steve Ballmer\"}]},\"tables_used\":[\"global_wealth.join_general_economy\",\"global_wealth.richest500\",\"global_wealth.p_richest500\",\"global_wealth.p_cost_of_living\",\"global_wealth.p_countries_gpd_hist\"],\"raw_graph\":\"\",\"sql_execution_time\":0.3,\"vector_store_search_time\":0.02,\"llm_time\":3.91,\"total_execution_time\":4.23}\n",
    "    global answer\n",
    "    answer=response.get('answer')\n",
    "    \n",
    "    return answer\n",
    "\n",
    "def flip_text(x):\n",
    "    return x[::-1]\n",
    "\n",
    "def flip_image(x):\n",
    "    return np.fliplr(x)\n",
    "\n",
    "def slow_echo(message, history):\n",
    "    for i in range(len(message)):\n",
    "        time.sleep(0.05)\n",
    "\n",
    "def text_to_speech():\n",
    "    tts = gTTS(answer, lang=\"es\")  \n",
    "    tts.save(\"output.mp3\") \n",
    "    os.system(\"mpg321 output.mp3\")\n"
   ]
  },
  {
   "cell_type": "code",
   "execution_count": 146,
   "metadata": {},
   "outputs": [
    {
     "name": "stdout",
     "output_type": "stream",
     "text": [
      "* Running on local URL:  http://127.0.0.1:7940\n",
      "\n",
      "To create a public link, set `share=True` in `launch()`.\n"
     ]
    },
    {
     "data": {
      "text/html": [
       "<div><iframe src=\"http://127.0.0.1:7940/\" width=\"100%\" height=\"500\" allow=\"autoplay; camera; microphone; clipboard-read; clipboard-write;\" frameborder=\"0\" allowfullscreen></iframe></div>"
      ],
      "text/plain": [
       "<IPython.core.display.HTML object>"
      ]
     },
     "metadata": {},
     "output_type": "display_data"
    }
   ],
   "source": [
    "import numpy as np\n",
    "import gradio as gr\n",
    "\n",
    "with gr.Blocks(title='WorldWealth', css=css, head=\"<link rel='icon' href='styles/logo.png' type='image/png'>\") as demo:\n",
    "\n",
    "# Esto inserta el favicon\n",
    "    markdown_content = \"\"\"\n",
    "    <div style=\"text-align:center;\">\n",
    "        <h1 >World Wealth</h1>\n",
    "        <p style=\"font-family: Protest Guerrilla; font-size: 20px; margin-top:0px;\">2021</p>\n",
    "    </div>\n",
    "    \"\"\"\n",
    "    gr.Image(\"styles/logo.png\", label=\"WorldWealth Logo\", show_label=False, height=100,container=False)\n",
    "    gr.Markdown(markdown_content)\n",
    "\n",
    "    with gr.Tab(\"WealthANALYTICS\"):\n",
    "        # text_input = gr.Textbox(label=\"Enter text\")\n",
    "        # text_output = gr.Textbox(label=\"Flipped text\")\n",
    "        text_button = gr.Button(\"Flip\")\n",
    "        # text_button.click(flip_text, inputs=text_input, outputs=text_output)\n",
    "\n",
    "    with gr.Tab(\"WealthCHATBOT\"):\n",
    "\n",
    "        chat = gr.ChatInterface(\n",
    "            askQuestion,\n",
    "            type=\"messages\",\n",
    "            save_history=True,\n",
    "        )\n",
    "\n",
    "        # btn_audio=gr.Button('BotonAUDIO')\n",
    "        # btn_audio.click(text_to_speech)\n",
    "    # with gr.Accordion(\"Open for More!\", open=False):\n",
    "    #     gr.Markdown(\"Look at me...\")\n",
    "    #     temp_slider = gr.Slider(\n",
    "    #         0, 1,\n",
    "    #         value=0.1,\n",
    "    #         step=0.1,\n",
    "    #         interactive=True,\n",
    "    #         label=\"Slide me\",\n",
    "    #     )\n",
    "\n",
    "if __name__ == \"__main__\":\n",
    "    demo.launch(favicon_path='styles/logo.png')\n",
    "\n"
   ]
  }
 ],
 "metadata": {
  "kernelspec": {
   "display_name": "Python 3.13.2 ('hack')",
   "language": "python",
   "name": "python3"
  },
  "language_info": {
   "codemirror_mode": {
    "name": "ipython",
    "version": 3
   },
   "file_extension": ".py",
   "mimetype": "text/x-python",
   "name": "python",
   "nbconvert_exporter": "python",
   "pygments_lexer": "ipython3",
   "version": "3.13.2"
  },
  "orig_nbformat": 4,
  "vscode": {
   "interpreter": {
    "hash": "32595281dab907644ba5a4b7d80b13caec342eb89c670a3183fd7fa3fe2385de"
   }
  }
 },
 "nbformat": 4,
 "nbformat_minor": 2
}
